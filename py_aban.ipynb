{
  "nbformat": 4,
  "nbformat_minor": 0,
  "metadata": {
    "colab": {
      "provenance": [],
      "authorship_tag": "ABX9TyPtzkXBfsr2hw9Yslh3xN8t",
      "include_colab_link": true
    },
    "kernelspec": {
      "name": "python3",
      "display_name": "Python 3"
    },
    "language_info": {
      "name": "python"
    }
  },
  "cells": [
    {
      "cell_type": "markdown",
      "metadata": {
        "id": "view-in-github",
        "colab_type": "text"
      },
      "source": [
        "<a href=\"https://colab.research.google.com/github/Deokgu/python/blob/main/py_aban.ipynb\" target=\"_parent\"><img src=\"https://colab.research.google.com/assets/colab-badge.svg\" alt=\"Open In Colab\"/></a>"
      ]
    },
    {
      "cell_type": "code",
      "execution_count": null,
      "metadata": {
        "id": "1pgAzSLFieQB"
      },
      "outputs": [],
      "source": []
    },
    {
      "cell_type": "markdown",
      "source": [
        "# CH1. 파이썬 문법\n",
        "## 자료형\n",
        "**숫자형**  \n",
        "안녕하세요  \n",
        "곽민재입니다.  \n",
        "* 정수 : 123, 456, 0, -30  \n",
        "* 실수 : 12.345, -987.65, 0.7e6  \n",
        "* 8진수 : 0o765, 0o123  \n",
        "* 16진수 : 0x00, 0x0A, 0xFF  \n",
        "\n",
        "**변수**  \n",
        "* 문자 또는 밑줄로 시작(_kwak, alpha)  \n",
        "* 대소문자 구분(sum, Sum, SUM)  \n",
        "* 영문자, 숫자, 밑줄(A-z, 0-9, _)    \n",
        " ex) sun_9, Alpha, s9n)  \n",
        "* 파이썬 키워드 (print...)  \n",
        "\n",
        "**표기법**\n",
        "+ 카멜(낙타) : myName\n",
        "+ 스네이크(뱀) : my_name\n",
        "+ 파스칼 : myName"
      ],
      "metadata": {
        "id": "PSO2VUqVik6j"
      }
    },
    {
      "cell_type": "code",
      "source": [
        "a = 10\n",
        "b = 20\n",
        "f = \"10\"\n",
        "c = a + b\n",
        "print(a,b,c,f)"
      ],
      "metadata": {
        "colab": {
          "base_uri": "https://localhost:8080/"
        },
        "id": "hf9lM1bFlYkO",
        "outputId": "1ac04efe-4af9-4d8b-a64d-2f128c16da0e"
      },
      "execution_count": null,
      "outputs": [
        {
          "output_type": "stream",
          "name": "stdout",
          "text": [
            "10 20 30 10\n"
          ]
        }
      ]
    },
    {
      "cell_type": "code",
      "source": [],
      "metadata": {
        "id": "LIUrR2IyoLK3"
      },
      "execution_count": null,
      "outputs": []
    },
    {
      "cell_type": "code",
      "source": [
        "a = 10\n",
        "b = 20\n",
        "c = \"10\" # 주석\n",
        "d = \"20\"\n",
        "print(a+b)\n",
        "print(a,b)\n",
        "print(type(a))\n",
        "print(type(c))\n",
        "print(c+d)\n",
        "print(c,d)"
      ],
      "metadata": {
        "colab": {
          "base_uri": "https://localhost:8080/"
        },
        "id": "MYZLa6pCl-Qb",
        "outputId": "a97d0587-772d-430a-fc46-269cd1d692c4"
      },
      "execution_count": null,
      "outputs": [
        {
          "output_type": "stream",
          "name": "stdout",
          "text": [
            "30\n",
            "10 20\n",
            "<class 'int'>\n",
            "<class 'str'>\n",
            "1020\n",
            "10 20\n"
          ]
        }
      ]
    },
    {
      "cell_type": "code",
      "source": [
        "# 나눗셈\n",
        "a = 10\n",
        "b = 3\n",
        "c = a / b\n",
        "d = a // b # 몫\n",
        "e = a % b # 나머지\n",
        "print(c,d,e)"
      ],
      "metadata": {
        "colab": {
          "base_uri": "https://localhost:8080/"
        },
        "id": "BgF6WQnerJOd",
        "outputId": "b765ebc4-3e3e-4021-9454-8deca652bfdc"
      },
      "execution_count": null,
      "outputs": [
        {
          "output_type": "stream",
          "name": "stdout",
          "text": [
            "3.3333333333333335 3 1\n"
          ]
        }
      ]
    },
    {
      "cell_type": "code",
      "source": [
        "# 곱셈\n",
        "a = 10\n",
        "b = 2\n",
        "c = a * b # 곱하기\n",
        "d = a ** b # 제곱\n",
        "print(c,d)"
      ],
      "metadata": {
        "colab": {
          "base_uri": "https://localhost:8080/"
        },
        "id": "2qK-ghRirLKt",
        "outputId": "00ff10c9-5474-4e13-a3a3-83903739f5a3"
      },
      "execution_count": null,
      "outputs": [
        {
          "output_type": "stream",
          "name": "stdout",
          "text": [
            "20 100\n"
          ]
        }
      ]
    },
    {
      "cell_type": "markdown",
      "source": [
        "#### 문자열\n",
        "1. 큰따옴표 : \"Minjae Kwak\"\n",
        "2. 작은 따옴표 : 'Minjae Kwak'\n",
        "3. 큰따옴표 3개 : \"\"\"대한민국\"\"\"\n",
        "4. 작은따옴표 2개 : ''대한민국''\n",
        "5. \"동해물과 백두산이 마르고 닳도록 Kwak\\'s\""
      ],
      "metadata": {
        "id": "3dSL4MTQrvX1"
      }
    },
    {
      "cell_type": "code",
      "source": [
        "# 변수\n",
        "myName = \"Kwak Minjae\"\n",
        "my_name = \"곽민재\"\n",
        "_my_name = \"Korea\"\n",
        "MYNAME = \"코리아\"\n",
        "my2name = \"kikiki\"\n",
        "# 2myname = \"숫자먼저\"\n",
        "# my-name = \"마이너스\"\n",
        "# my name = \"스페이스\"\n",
        "myName1 = 124\n",
        "myName2 = \"1234\"\n",
        "print(type(myName1))\n",
        "print(type(myName2))"
      ],
      "metadata": {
        "colab": {
          "base_uri": "https://localhost:8080/"
        },
        "id": "cL2qr4estZuG",
        "outputId": "3ca354df-0b7d-42c4-89eb-f7f09325e337"
      },
      "execution_count": null,
      "outputs": [
        {
          "output_type": "stream",
          "name": "stdout",
          "text": [
            "<class 'int'>\n",
            "<class 'str'>\n"
          ]
        }
      ]
    },
    {
      "cell_type": "markdown",
      "source": [
        "# 변수할당"
      ],
      "metadata": {
        "id": "Cnf8OYy0u_t_"
      }
    },
    {
      "cell_type": "code",
      "source": [
        "a=b=c= \"브라보콘\"\n",
        "print(a)\n",
        "print(b)\n",
        "print(c)"
      ],
      "metadata": {
        "colab": {
          "base_uri": "https://localhost:8080/"
        },
        "id": "IERq7FzkvFRX",
        "outputId": "509ce70a-de9d-4863-e42c-156853ac8a19"
      },
      "execution_count": null,
      "outputs": [
        {
          "output_type": "stream",
          "name": "stdout",
          "text": [
            "브라보콘\n",
            "브라보콘\n",
            "브라보콘\n"
          ]
        }
      ]
    },
    {
      "cell_type": "code",
      "source": [
        "x,y,z = \"딸기\",\"포도\",\"바나나\"\n",
        "print(x)\n",
        "print(y)\n",
        "print(z)"
      ],
      "metadata": {
        "colab": {
          "base_uri": "https://localhost:8080/"
        },
        "id": "eMGcbvhkvRoP",
        "outputId": "cadca76a-4e91-4984-98a2-4b11a7d4f6ec"
      },
      "execution_count": null,
      "outputs": [
        {
          "output_type": "stream",
          "name": "stdout",
          "text": [
            "딸기\n",
            "포도\n",
            "바나나\n"
          ]
        }
      ]
    },
    {
      "cell_type": "code",
      "source": [
        "fruits = [\"누가바\",\"쌍쌍바\",\"보석바\"]\n",
        "x,y,z = fruits\n",
        "print(x)\n",
        "print(y)\n",
        "print(z)"
      ],
      "metadata": {
        "colab": {
          "base_uri": "https://localhost:8080/"
        },
        "id": "xICpoxulv3m_",
        "outputId": "0b23620e-6bd2-4367-bcd8-4f9fee091f13"
      },
      "execution_count": null,
      "outputs": [
        {
          "output_type": "stream",
          "name": "stdout",
          "text": [
            "누가바\n",
            "쌍쌍바\n",
            "보석바\n"
          ]
        }
      ]
    },
    {
      "cell_type": "code",
      "source": [
        "x = \"Life\"\n",
        "y = \" is\"\n",
        "z = \" beautiful!\"\n",
        "print(x,y,z)\n",
        "print(x+y+z)"
      ],
      "metadata": {
        "colab": {
          "base_uri": "https://localhost:8080/"
        },
        "id": "xwFdiKRbwkK3",
        "outputId": "7bc5cd15-3c1c-48a8-efc0-c13fe18ef30d"
      },
      "execution_count": null,
      "outputs": [
        {
          "output_type": "stream",
          "name": "stdout",
          "text": [
            "Life  is  beautiful!\n",
            "Life is beautiful!\n"
          ]
        }
      ]
    },
    {
      "cell_type": "code",
      "source": [
        "a = 1\n",
        "b = 2\n",
        "c = 3\n",
        "print(a+b+c)\n",
        "print(a,b,c)"
      ],
      "metadata": {
        "colab": {
          "base_uri": "https://localhost:8080/"
        },
        "id": "XPMcKci4xKfH",
        "outputId": "db182308-ea22-4556-ca31-23eef7899666"
      },
      "execution_count": null,
      "outputs": [
        {
          "output_type": "stream",
          "name": "stdout",
          "text": [
            "6\n",
            "1 2 3\n"
          ]
        }
      ]
    },
    {
      "cell_type": "code",
      "source": [
        "a = \"1\"\n",
        "b = \"2\"\n",
        "c = \"3\"\n",
        "print(a+b+c)\n",
        "print(a,b,c)"
      ],
      "metadata": {
        "colab": {
          "base_uri": "https://localhost:8080/"
        },
        "id": "2tF16g4vxYn3",
        "outputId": "5bdbcbf3-3ce2-4da9-c30c-bcd18d135b6f"
      },
      "execution_count": null,
      "outputs": [
        {
          "output_type": "stream",
          "name": "stdout",
          "text": [
            "123\n",
            "1 2 3\n"
          ]
        }
      ]
    },
    {
      "cell_type": "markdown",
      "source": [
        "데이터 바꾸기"
      ],
      "metadata": {
        "id": "waBzA3Qe7w-r"
      }
    },
    {
      "cell_type": "code",
      "source": [
        "a = 1;b = 2\n",
        "a,b = b,a\n",
        "print(a,b)"
      ],
      "metadata": {
        "colab": {
          "base_uri": "https://localhost:8080/"
        },
        "id": "HWxpncFN79d6",
        "outputId": "850eb1b5-09b9-406e-bbc7-f537d5889d5a"
      },
      "execution_count": null,
      "outputs": [
        {
          "output_type": "stream",
          "name": "stdout",
          "text": [
            "2 1\n"
          ]
        }
      ]
    },
    {
      "cell_type": "code",
      "source": [
        "b = 2; c = 3\n",
        "# c = (b=b+c) #error"
      ],
      "metadata": {
        "colab": {
          "base_uri": "https://localhost:8080/",
          "height": 137
        },
        "id": "eziclM8d8hLb",
        "outputId": "622ce537-cf92-4947-8786-1d2991b41e74"
      },
      "execution_count": null,
      "outputs": [
        {
          "output_type": "error",
          "ename": "SyntaxError",
          "evalue": "ignored",
          "traceback": [
            "\u001b[0;36m  File \u001b[0;32m\"<ipython-input-29-70ae5bb50ac6>\"\u001b[0;36m, line \u001b[0;32m2\u001b[0m\n\u001b[0;31m    c = (b=b+c) #error\u001b[0m\n\u001b[0m          ^\u001b[0m\n\u001b[0;31mSyntaxError\u001b[0m\u001b[0;31m:\u001b[0m invalid syntax\n"
          ]
        }
      ]
    },
    {
      "cell_type": "code",
      "source": [
        "a = 1; b = 2; c = 3\n",
        "f = a + b + \\\n",
        "c\n",
        "print(f)"
      ],
      "metadata": {
        "colab": {
          "base_uri": "https://localhost:8080/"
        },
        "id": "DEeHBBpN8v0a",
        "outputId": "9b1d9503-c394-42b3-cad1-dded1462766c"
      },
      "execution_count": null,
      "outputs": [
        {
          "output_type": "stream",
          "name": "stdout",
          "text": [
            "6\n"
          ]
        }
      ]
    },
    {
      "cell_type": "code",
      "source": [
        "# len()\n",
        "\n",
        "a = \"123456\"\n",
        "b = [2,3,4,5]\n",
        "print(len(a))\n",
        "print(len(b))"
      ],
      "metadata": {
        "colab": {
          "base_uri": "https://localhost:8080/"
        },
        "id": "Qe71BepX8_Gj",
        "outputId": "628a9dcd-4d63-4c4e-c0ec-1388a83ea09c"
      },
      "execution_count": null,
      "outputs": [
        {
          "output_type": "stream",
          "name": "stdout",
          "text": [
            "6\n",
            "4\n"
          ]
        }
      ]
    },
    {
      "cell_type": "markdown",
      "source": [
        "#### 계산기"
      ],
      "metadata": {
        "id": "J_XlBF2C9WzT"
      }
    },
    {
      "cell_type": "code",
      "source": [
        "a = 100\n",
        "b = 200\n",
        "result = a + b\n",
        "print(a, '+', b, '=', result)\n",
        "result = a - b\n",
        "print(a, '-', b, '=', result)\n",
        "result = a / b\n",
        "print(a, '/', b, '=', result)\n",
        "result = a * b\n",
        "print(a, '*', b, '=', result)"
      ],
      "metadata": {
        "colab": {
          "base_uri": "https://localhost:8080/"
        },
        "id": "SR4Idh0P9Zzi",
        "outputId": "7d122362-1ae4-48bb-b3b2-746188f64776"
      },
      "execution_count": null,
      "outputs": [
        {
          "output_type": "stream",
          "name": "stdout",
          "text": [
            "100 + 200 = 300\n",
            "100 - 200 = -100\n",
            "100 / 200 = 0.5\n",
            "100 * 200 = 20000\n"
          ]
        }
      ]
    },
    {
      "cell_type": "code",
      "source": [
        "a = \"1234\"\n",
        "b = 5678\n",
        "c = int(a) + b\n",
        "print(c)"
      ],
      "metadata": {
        "colab": {
          "base_uri": "https://localhost:8080/"
        },
        "id": "XCQrvklOAoZy",
        "outputId": "6642ac78-8671-4423-86a7-62697d30bf2a"
      },
      "execution_count": null,
      "outputs": [
        {
          "output_type": "stream",
          "name": "stdout",
          "text": [
            "6912\n"
          ]
        }
      ]
    },
    {
      "cell_type": "code",
      "source": [
        "# 계산기 2\n",
        "num1 = int(input(\"숫자입력1 : \"))\n",
        "num2 = int(input(\"숫자입력2 : \"))\n",
        "\n",
        "print(type(num1))\n",
        "result = num1 + num2\n",
        "print(result)"
      ],
      "metadata": {
        "colab": {
          "base_uri": "https://localhost:8080/"
        },
        "id": "aIeDSSUzBDsk",
        "outputId": "d883bcab-3ac3-4764-a6de-3b3ffb362a2e"
      },
      "execution_count": null,
      "outputs": [
        {
          "output_type": "stream",
          "name": "stdout",
          "text": [
            "숫자입력1 : 1\n",
            "숫자입력2 : 2\n",
            "<class 'int'>\n",
            "3\n"
          ]
        }
      ]
    },
    {
      "cell_type": "code",
      "source": [
        "num1 = int(input(\"숫자입력1 : \"))\n",
        "num2 = int(input(\"숫자입력2 : \"))\n",
        "result = num1 + num2\n",
        "print(num1, \"+\", num2, \"=\", result)\n",
        "result = num1 - num2\n",
        "print(num1, \"-\", num2, \"=\", result)\n",
        "result = num1 / num2\n",
        "print(num1, \"/\", num2, \"=\", result)\n",
        "result = num1 * num2\n",
        "print(num1, \"*\", num2, \"=\", result)\n"
      ],
      "metadata": {
        "colab": {
          "base_uri": "https://localhost:8080/"
        },
        "id": "QydaZbYwCC29",
        "outputId": "2bcb4a1d-704c-40fa-f969-1e6a7078c93e"
      },
      "execution_count": null,
      "outputs": [
        {
          "output_type": "stream",
          "name": "stdout",
          "text": [
            "숫자입력1 : 1\n",
            "숫자입력2 : 2\n",
            "1 + 2 = 3\n",
            "1 - 2 = -1\n",
            "1 / 2 = 0.5\n",
            "1 * 2 = 2\n"
          ]
        }
      ]
    },
    {
      "cell_type": "code",
      "source": [
        "my_name = input(\"자기이름 : \")\n",
        "num = input(\"전화번호 : \")\n",
        "num2 = int(input(\"택배(g) : \"))\n",
        "num3 = num2 * 100\n",
        "print(\"이름 :\", my_name)\n",
        "print(\"전화번호 :\", num,)\n",
        "print(\"택배 :\", num2,\"g\")\n",
        "print(num2,\"g\", \"X\", \"100원 =\", num3,\"원 입니다.\")"
      ],
      "metadata": {
        "colab": {
          "base_uri": "https://localhost:8080/"
        },
        "id": "DS7EzC8nDkTl",
        "outputId": "c030d94f-90dc-44c8-afd3-7b4c706a19a9"
      },
      "execution_count": null,
      "outputs": [
        {
          "output_type": "stream",
          "name": "stdout",
          "text": [
            "자기이름 : 곽민재\n",
            "전화번호 : 01021886784\n",
            "택배(g) : 200\n",
            "이름 : 곽민재\n",
            "전화번호 : 01021886784\n",
            "택배 : 200 g\n",
            "200 g X 100원 = 20000 원 입니다.\n"
          ]
        }
      ]
    },
    {
      "cell_type": "markdown",
      "source": [
        "# CH2. 서식 출력 print()"
      ],
      "metadata": {
        "id": "O_99_GoeiYul"
      }
    },
    {
      "cell_type": "code",
      "source": [
        "print(\"%d\" % 123)\n",
        "print(\"%5d\" % 123)\n",
        "print(\"%05d\" % 1234)\n",
        "\n",
        "print(\"%f\" % 123.45)\n",
        "print(\"%7.1f\" % 123.45)\n",
        "print(\"%7.3f\" % 123.45)\n",
        "\n",
        "print(\"%c\" % \"1\")\n",
        "print(\"%s\" % \"가나다라\")\n",
        "print(\"%6s\" % \"가나다라\")\n",
        "print(\"%6s\" % \"abcd\")"
      ],
      "metadata": {
        "colab": {
          "base_uri": "https://localhost:8080/"
        },
        "id": "ZvrCErGWirnr",
        "outputId": "7b7e418b-d10a-4591-ccad-a6948c59e6cb"
      },
      "execution_count": 9,
      "outputs": [
        {
          "output_type": "stream",
          "name": "stdout",
          "text": [
            "123\n",
            "  123\n",
            "01234\n",
            "123.450000\n",
            "  123.5\n",
            "123.450\n",
            "1\n",
            "가나다라\n",
            "  가나다라\n",
            "  abcd\n"
          ]
        }
      ]
    },
    {
      "cell_type": "markdown",
      "source": [
        "#### 순서 지정 기능 : format"
      ],
      "metadata": {
        "id": "WQnvJnb5kRJF"
      }
    },
    {
      "cell_type": "code",
      "source": [
        "print(\"{0:d} {1:5d} {2:05d}\" .format(123,456,789))"
      ],
      "metadata": {
        "colab": {
          "base_uri": "https://localhost:8080/"
        },
        "id": "Yff1vdFLkZ-k",
        "outputId": "ad067263-085c-4881-a21d-075528b073f0"
      },
      "execution_count": 10,
      "outputs": [
        {
          "output_type": "stream",
          "name": "stdout",
          "text": [
            "123   456 00789\n"
          ]
        }
      ]
    },
    {
      "cell_type": "code",
      "source": [
        "print(\"{2:d} {1:5d} {0:05d}\" .format(123,456,789))"
      ],
      "metadata": {
        "colab": {
          "base_uri": "https://localhost:8080/"
        },
        "id": "B6g8eDXskwDv",
        "outputId": "68fa0734-8547-4807-f756-330839d3f49d"
      },
      "execution_count": 12,
      "outputs": [
        {
          "output_type": "stream",
          "name": "stdout",
          "text": [
            "789   456 00123\n"
          ]
        }
      ]
    },
    {
      "cell_type": "markdown",
      "source": [
        "#### 서식 출력"
      ],
      "metadata": {
        "id": "v9fVCrfzlD4E"
      }
    },
    {
      "cell_type": "code",
      "source": [
        "print(\"\\n줄 바꿈 명령 \\n연습 입니다.\")"
      ],
      "metadata": {
        "colab": {
          "base_uri": "https://localhost:8080/"
        },
        "id": "qQMeFv08lHEj",
        "outputId": "87e4b840-53b5-43e6-b2da-206b0ca5b15f"
      },
      "execution_count": 13,
      "outputs": [
        {
          "output_type": "stream",
          "name": "stdout",
          "text": [
            "\n",
            "줄 바꿈 명령 \n",
            "연습 입니다.\n"
          ]
        }
      ]
    },
    {
      "cell_type": "code",
      "source": [
        "print(\"\\t탭키 명령 \\t연습 입니다.\")"
      ],
      "metadata": {
        "colab": {
          "base_uri": "https://localhost:8080/"
        },
        "id": "11Qn0FF6lS0k",
        "outputId": "59b4e3f0-9c77-4131-e03f-5f9a923b5cdf"
      },
      "execution_count": 14,
      "outputs": [
        {
          "output_type": "stream",
          "name": "stdout",
          "text": [
            "\t탭키 명령 \t연습 입니다.\n"
          ]
        }
      ]
    },
    {
      "cell_type": "code",
      "source": [
        "print(\"따옴표 글자가 \\\"강조\\\"되는 효과\")\n",
        "print(\"따옴표 글자가 \\'강조\\'되는 효과\")\n",
        "print(\"역슬레시 3개를 출력하려면 \\\\\\\\\\\\ 6개\")\n",
        "print(r\"\\n \\t \\\" \\\\ \\' @를 그대로 출력\")"
      ],
      "metadata": {
        "colab": {
          "base_uri": "https://localhost:8080/"
        },
        "id": "aT-3i9bmlaTL",
        "outputId": "b879447b-676c-461a-e28d-a98374a383d7"
      },
      "execution_count": 18,
      "outputs": [
        {
          "output_type": "stream",
          "name": "stdout",
          "text": [
            "따옴표 글자가 \"강조\"되는 효과\n",
            "따옴표 글자가 '강조'되는 효과\n",
            "역슬레시 3개를 출력하려면 \\\\\\ 6개\n",
            "\\n \\t \\\" \\\\ \\' @를 그대로 출력\n"
          ]
        }
      ]
    },
    {
      "cell_type": "markdown",
      "source": [
        "#### 관계 연산자"
      ],
      "metadata": {
        "id": "MM3ol_Fsuoi9"
      }
    },
    {
      "cell_type": "code",
      "source": [
        "a,b = 10,20\n",
        "print(a==b, a!=b, a>=b, a<=b, a>b, a<b)"
      ],
      "metadata": {
        "colab": {
          "base_uri": "https://localhost:8080/"
        },
        "id": "l5Sg9Uw_urU0",
        "outputId": "fa611d77-8486-449b-d864-2c69754e1d4e"
      },
      "execution_count": null,
      "outputs": [
        {
          "output_type": "stream",
          "name": "stdout",
          "text": [
            "False True False True False True\n"
          ]
        }
      ]
    },
    {
      "cell_type": "markdown",
      "source": [
        "#### 논리 연산자 and, or, not"
      ],
      "metadata": {
        "id": "NFHpbABXvJoF"
      }
    },
    {
      "cell_type": "code",
      "source": [
        "a = 95\n",
        "print((a>100) and (a<200))  # 100<a<200\n",
        "print((a<100) or (a>200))   # a<100, a>200\n",
        "print(not(a==100))          # a<=99, a>=101"
      ],
      "metadata": {
        "colab": {
          "base_uri": "https://localhost:8080/"
        },
        "id": "s4G5iyG9vPaM",
        "outputId": "74782ca0-205a-4002-e00e-1d11a6fa32d0"
      },
      "execution_count": 23,
      "outputs": [
        {
          "output_type": "stream",
          "name": "stdout",
          "text": [
            "False\n",
            "True\n",
            "True\n"
          ]
        }
      ]
    },
    {
      "cell_type": "code",
      "source": [
        "if(1):\n",
        "  print(\"참이면 실행되어 보임\")\n",
        "if(0):\n",
        "  print(\"거짓이면 안보임\")"
      ],
      "metadata": {
        "colab": {
          "base_uri": "https://localhost:8080/"
        },
        "id": "GHGDmKMKwcZh",
        "outputId": "47c9f996-585b-4fa0-9f42-35bae0f1ee68"
      },
      "execution_count": 27,
      "outputs": [
        {
          "output_type": "stream",
          "name": "stdout",
          "text": [
            "참이면 실행되어 보임\n"
          ]
        }
      ]
    },
    {
      "cell_type": "markdown",
      "source": [
        "#### 퀴즈2 // 몫 % 나머지 money=int(input(\"입력:\")) 지폐 금액입력 후 동전으로 교환시 (500원, 100원, 50원, 10원)\n",
        "money, c500, c100, c50, c10\n",
        "받은돈 : ?원\n",
        "500원 : ?개\n",
        "100원 : ?개\n",
        "50원 : ?개\n",
        "10원 : ?개\n",
        "나머지 : ?원"
      ],
      "metadata": {
        "id": "ozly1d-OxJPE"
      }
    },
    {
      "cell_type": "code",
      "source": [
        "my_name = input(\"이름:\")\n",
        "money = int(input(\"입력:\"))\n",
        "print(\"받은돈 %d원\" % money)\n",
        "c500 = money//500            #500 # 몫\n",
        "print(\"500원 %d개\" % c500)\n",
        "a = money%500\n",
        "c100 = a//100                #100 # 몫\n",
        "print(\"100원 %d개\" % c100)\n",
        "a = a%100\n",
        "c50 = a//50                  #50 # 몫\n",
        "print(\"50원 %d개\" % c50)\n",
        "a = a%50\n",
        "c10 = a//10                  #10 # 몫\n",
        "print(\"10원 %d개\" % c10)\n",
        "a = a%10\n",
        "print(\"나머지 %d원\" % a)\n"
      ],
      "metadata": {
        "colab": {
          "base_uri": "https://localhost:8080/"
        },
        "id": "6JNYY8osxrHk",
        "outputId": "68a4bec4-47bd-42dd-edd6-9bcf329143bb"
      },
      "execution_count": 44,
      "outputs": [
        {
          "output_type": "stream",
          "name": "stdout",
          "text": [
            "이름:곽민재\n",
            "입력:3375\n",
            "받은돈 3375원\n",
            "500원 6개\n",
            "100원 3개\n",
            "50원 1개\n",
            "10원 2개\n",
            "나머지 5원\n"
          ]
        }
      ]
    },
    {
      "cell_type": "markdown",
      "source": [
        "#### 조건문"
      ],
      "metadata": {
        "id": "JbRdlJdU6lAt"
      }
    },
    {
      "cell_type": "code",
      "source": [
        "a = 50\n",
        "if(a < 100):\n",
        "  print(\"100보다 작으면 참\")\n",
        "  print(\"거짓이면 이 문장은 보이지 않음\")\n",
        "print(\"프로그램 끝\")"
      ],
      "metadata": {
        "colab": {
          "base_uri": "https://localhost:8080/"
        },
        "id": "nBTmnJFj6qb1",
        "outputId": "dcc3ce55-ab3d-46b7-ce01-ca439ace8f12"
      },
      "execution_count": 50,
      "outputs": [
        {
          "output_type": "stream",
          "name": "stdout",
          "text": [
            "100보다 작으면 참\n",
            "거짓이면 이 문장은 보이지 않음\n",
            "프로그램 끝\n"
          ]
        }
      ]
    },
    {
      "cell_type": "code",
      "source": [
        "a = 200\n",
        "if(a<100):\n",
        "  print(\"참 : 100보다 작음\")\n",
        "else :\n",
        "  print(\"거짓 : 조건보다 크면\")\n",
        "print(\"프로그램 끝\")"
      ],
      "metadata": {
        "colab": {
          "base_uri": "https://localhost:8080/"
        },
        "id": "X-9ACVLT63eU",
        "outputId": "3cdaff2f-9c8e-423d-a83a-85791f468e5e"
      },
      "execution_count": 54,
      "outputs": [
        {
          "output_type": "stream",
          "name": "stdout",
          "text": [
            "거짓 : 조건보다 크면\n",
            "프로그램 끝\n"
          ]
        }
      ]
    },
    {
      "cell_type": "code",
      "source": [
        "# 홀짝 구분\n",
        "a = int(input(\"숫자 입력:\"))\n",
        "if(a%2==0):\n",
        "  print(\"짝수 입니다.\")\n",
        "else :\n",
        " print(\"홀수 입니다.\")"
      ],
      "metadata": {
        "colab": {
          "base_uri": "https://localhost:8080/"
        },
        "id": "Eti6YfAF723Z",
        "outputId": "b2487ffd-33d2-4d07-803a-aa995221666f"
      },
      "execution_count": 58,
      "outputs": [
        {
          "output_type": "stream",
          "name": "stdout",
          "text": [
            "숫자 입력:1\n",
            "홀수 입니다.\n"
          ]
        }
      ]
    },
    {
      "cell_type": "code",
      "source": [
        "a = int(input(\"숫자입력:\"))\n",
        "if(a > 50):\n",
        "  if(a < 100):\n",
        "    print(\"50<a<100\")\n",
        "  else:\n",
        "    print(\"a>100\")\n",
        "else:\n",
        "  if(a > 25):\n",
        "    print(\"25<a<50\")\n",
        "  else:\n",
        "    print(\"a < 25\")"
      ],
      "metadata": {
        "colab": {
          "base_uri": "https://localhost:8080/"
        },
        "id": "mUH0w-vg82vz",
        "outputId": "996126a5-9937-46b8-d59f-2da70ac3a9e9"
      },
      "execution_count": 67,
      "outputs": [
        {
          "output_type": "stream",
          "name": "stdout",
          "text": [
            "숫자입력:35\n",
            "25<a<50\n"
          ]
        }
      ]
    },
    {
      "cell_type": "code",
      "source": [
        "fruit = ['사과', '배', '샤인머스켓', '바나나']\n",
        "fruit.append('망고')\n",
        "if '망고' in fruit :\n",
        "  print(\"망고가 있습니다.\")\n",
        "print(fruit)"
      ],
      "metadata": {
        "colab": {
          "base_uri": "https://localhost:8080/"
        },
        "id": "DyWWjBw4_qR9",
        "outputId": "6bcc0d08-b4f0-46b1-aaa5-eefacdaa352a"
      },
      "execution_count": 69,
      "outputs": [
        {
          "output_type": "stream",
          "name": "stdout",
          "text": [
            "망고가 있습니다.\n",
            "['사과', '배', '샤인머스켓', '바나나', '망고']\n"
          ]
        }
      ]
    },
    {
      "cell_type": "code",
      "source": [
        "for i in range(1,3,1):  #시작값, 끝깞+1, 증가값\n",
        "  print(\"%d 안녕하세요.\" % i)\n",
        "print(\"환영합니다.\")"
      ],
      "metadata": {
        "colab": {
          "base_uri": "https://localhost:8080/"
        },
        "id": "GbyROKPJAo7p",
        "outputId": "898cf6ae-d1f6-4603-aea8-b7f9419002fd"
      },
      "execution_count": 71,
      "outputs": [
        {
          "output_type": "stream",
          "name": "stdout",
          "text": [
            "1 안녕하세요.\n",
            "2 안녕하세요.\n",
            "환영합니다.\n"
          ]
        }
      ]
    },
    {
      "cell_type": "code",
      "source": [
        "import random\n",
        "num = []\n",
        "for i in range(0,6):\n",
        "  num.append(random.randrange(1,46))\n",
        "print(\"생성 리스트\", num)"
      ],
      "metadata": {
        "colab": {
          "base_uri": "https://localhost:8080/"
        },
        "id": "X13R9qskBxGl",
        "outputId": "b778d072-deeb-4331-cda2-cf83cc2c2b00"
      },
      "execution_count": 85,
      "outputs": [
        {
          "output_type": "stream",
          "name": "stdout",
          "text": [
            "생성 리스트 [12, 43, 14, 43, 44, 31]\n"
          ]
        }
      ]
    },
    {
      "cell_type": "code",
      "source": [
        "for i in range(1,9,1):\n",
        "  print(\"%d\" % i, end='\\t')\n",
        "print(\"\\n\")\n",
        "for j in range(1,9,1):\n",
        "  print(\"%d\" % j, end='\\t')"
      ],
      "metadata": {
        "colab": {
          "base_uri": "https://localhost:8080/"
        },
        "id": "PGZL8OeADYU1",
        "outputId": "e6564244-fb3d-4a32-ab26-0fe9aa25c7d0"
      },
      "execution_count": 91,
      "outputs": [
        {
          "output_type": "stream",
          "name": "stdout",
          "text": [
            "1\t2\t3\t4\t5\t6\t7\t8\t\n",
            "\n",
            "1\t2\t3\t4\t5\t6\t7\t8\t"
          ]
        }
      ]
    },
    {
      "cell_type": "code",
      "source": [
        "sum = 0\n",
        "for i in range(1,11):\n",
        "  sum = sum + i\n",
        "print(\"1부터 10까지의 합 : %d\" % sum)"
      ],
      "metadata": {
        "colab": {
          "base_uri": "https://localhost:8080/"
        },
        "id": "_E-_twGTELBm",
        "outputId": "b0d43b31-20b2-4e43-95a5-6403fca3e7d4"
      },
      "execution_count": 94,
      "outputs": [
        {
          "output_type": "stream",
          "name": "stdout",
          "text": [
            "1부터 10까지의 합 : 55\n"
          ]
        }
      ]
    },
    {
      "cell_type": "code",
      "source": [
        "sum,num = 0,0\n",
        "num = int(input(\"숫자입력:\"))\n",
        "for i in range(1,num+1,1):\n",
        "  sum = sum + i\n",
        "print(\"1~n까지의 합 : %d\" % sum)"
      ],
      "metadata": {
        "colab": {
          "base_uri": "https://localhost:8080/"
        },
        "id": "zlaDaldFE1d9",
        "outputId": "08b7852e-d30b-40a5-8017-411360689b40"
      },
      "execution_count": 100,
      "outputs": [
        {
          "output_type": "stream",
          "name": "stdout",
          "text": [
            "숫자입력:10000\n",
            "1~n까지의 합 : 50005000\n"
          ]
        }
      ]
    },
    {
      "cell_type": "code",
      "source": [
        "i,j = 2,0\n",
        "for j in range(1,10):\n",
        "  print(\"%d x %d = %2d\" % (i, j, i*j))"
      ],
      "metadata": {
        "colab": {
          "base_uri": "https://localhost:8080/"
        },
        "id": "tdXQFlbzF1Ys",
        "outputId": "a15ed846-365f-41ed-b266-f09226ea00d1"
      },
      "execution_count": 102,
      "outputs": [
        {
          "output_type": "stream",
          "name": "stdout",
          "text": [
            "2 x 1 =  2\n",
            "2 x 2 =  4\n",
            "2 x 3 =  6\n",
            "2 x 4 =  8\n",
            "2 x 5 = 10\n",
            "2 x 6 = 12\n",
            "2 x 7 = 14\n",
            "2 x 8 = 16\n",
            "2 x 9 = 18\n"
          ]
        }
      ]
    },
    {
      "cell_type": "code",
      "source": [
        "i,j,k = 0,0,0\n",
        "for i in range(2,10):\n",
        "  for j in range(1,10):\n",
        "    print(\"%d x %d = %2d\" % (i, j, i*j))\n",
        "  print(\"\")"
      ],
      "metadata": {
        "colab": {
          "base_uri": "https://localhost:8080/"
        },
        "id": "yfR5BN4mGq-b",
        "outputId": "d8ce0bb8-6f27-4587-ee8b-398062c8ce43"
      },
      "execution_count": 103,
      "outputs": [
        {
          "output_type": "stream",
          "name": "stdout",
          "text": [
            "2 x 1 =  2\n",
            "2 x 2 =  4\n",
            "2 x 3 =  6\n",
            "2 x 4 =  8\n",
            "2 x 5 = 10\n",
            "2 x 6 = 12\n",
            "2 x 7 = 14\n",
            "2 x 8 = 16\n",
            "2 x 9 = 18\n",
            "\n",
            "3 x 1 =  3\n",
            "3 x 2 =  6\n",
            "3 x 3 =  9\n",
            "3 x 4 = 12\n",
            "3 x 5 = 15\n",
            "3 x 6 = 18\n",
            "3 x 7 = 21\n",
            "3 x 8 = 24\n",
            "3 x 9 = 27\n",
            "\n",
            "4 x 1 =  4\n",
            "4 x 2 =  8\n",
            "4 x 3 = 12\n",
            "4 x 4 = 16\n",
            "4 x 5 = 20\n",
            "4 x 6 = 24\n",
            "4 x 7 = 28\n",
            "4 x 8 = 32\n",
            "4 x 9 = 36\n",
            "\n",
            "5 x 1 =  5\n",
            "5 x 2 = 10\n",
            "5 x 3 = 15\n",
            "5 x 4 = 20\n",
            "5 x 5 = 25\n",
            "5 x 6 = 30\n",
            "5 x 7 = 35\n",
            "5 x 8 = 40\n",
            "5 x 9 = 45\n",
            "\n",
            "6 x 1 =  6\n",
            "6 x 2 = 12\n",
            "6 x 3 = 18\n",
            "6 x 4 = 24\n",
            "6 x 5 = 30\n",
            "6 x 6 = 36\n",
            "6 x 7 = 42\n",
            "6 x 8 = 48\n",
            "6 x 9 = 54\n",
            "\n",
            "7 x 1 =  7\n",
            "7 x 2 = 14\n",
            "7 x 3 = 21\n",
            "7 x 4 = 28\n",
            "7 x 5 = 35\n",
            "7 x 6 = 42\n",
            "7 x 7 = 49\n",
            "7 x 8 = 56\n",
            "7 x 9 = 63\n",
            "\n",
            "8 x 1 =  8\n",
            "8 x 2 = 16\n",
            "8 x 3 = 24\n",
            "8 x 4 = 32\n",
            "8 x 5 = 40\n",
            "8 x 6 = 48\n",
            "8 x 7 = 56\n",
            "8 x 8 = 64\n",
            "8 x 9 = 72\n",
            "\n",
            "9 x 1 =  9\n",
            "9 x 2 = 18\n",
            "9 x 3 = 27\n",
            "9 x 4 = 36\n",
            "9 x 5 = 45\n",
            "9 x 6 = 54\n",
            "9 x 7 = 63\n",
            "9 x 8 = 72\n",
            "9 x 9 = 81\n",
            "\n"
          ]
        }
      ]
    },
    {
      "cell_type": "markdown",
      "source": [
        "### Quiz3 구구단을 만들고 2,3,4,5 줄 바꿔서 6,7,8,9를 출력하시오."
      ],
      "metadata": {
        "id": "UszlxOS8HWBE"
      }
    },
    {
      "cell_type": "code",
      "source": [
        "i,j,k = 0,0,0\n",
        "for j in range(1,10):\n",
        "  for i in range(2,6):\n",
        "    print(\"%d x %d = %2d\" % (i, j, i*j), end='\\t')\n",
        "  print(\"\")\n",
        "print(\"\\n\")\n",
        "for j in range(1,10):\n",
        "  for i in range(6,10):\n",
        "    print(\"%d x %d = %2d\" % (i, j, i*j), end='\\t')\n",
        "  print(\"\")"
      ],
      "metadata": {
        "colab": {
          "base_uri": "https://localhost:8080/"
        },
        "id": "CBaYBlhbHrT1",
        "outputId": "fdfa0b0b-6f5f-419d-9aaf-3fdaae63b56f"
      },
      "execution_count": 111,
      "outputs": [
        {
          "output_type": "stream",
          "name": "stdout",
          "text": [
            "2 x 1 =  2\t3 x 1 =  3\t4 x 1 =  4\t5 x 1 =  5\t\n",
            "2 x 2 =  4\t3 x 2 =  6\t4 x 2 =  8\t5 x 2 = 10\t\n",
            "2 x 3 =  6\t3 x 3 =  9\t4 x 3 = 12\t5 x 3 = 15\t\n",
            "2 x 4 =  8\t3 x 4 = 12\t4 x 4 = 16\t5 x 4 = 20\t\n",
            "2 x 5 = 10\t3 x 5 = 15\t4 x 5 = 20\t5 x 5 = 25\t\n",
            "2 x 6 = 12\t3 x 6 = 18\t4 x 6 = 24\t5 x 6 = 30\t\n",
            "2 x 7 = 14\t3 x 7 = 21\t4 x 7 = 28\t5 x 7 = 35\t\n",
            "2 x 8 = 16\t3 x 8 = 24\t4 x 8 = 32\t5 x 8 = 40\t\n",
            "2 x 9 = 18\t3 x 9 = 27\t4 x 9 = 36\t5 x 9 = 45\t\n",
            "\n",
            "\n",
            "6 x 1 =  6\t7 x 1 =  7\t8 x 1 =  8\t9 x 1 =  9\t\n",
            "6 x 2 = 12\t7 x 2 = 14\t8 x 2 = 16\t9 x 2 = 18\t\n",
            "6 x 3 = 18\t7 x 3 = 21\t8 x 3 = 24\t9 x 3 = 27\t\n",
            "6 x 4 = 24\t7 x 4 = 28\t8 x 4 = 32\t9 x 4 = 36\t\n",
            "6 x 5 = 30\t7 x 5 = 35\t8 x 5 = 40\t9 x 5 = 45\t\n",
            "6 x 6 = 36\t7 x 6 = 42\t8 x 6 = 48\t9 x 6 = 54\t\n",
            "6 x 7 = 42\t7 x 7 = 49\t8 x 7 = 56\t9 x 7 = 63\t\n",
            "6 x 8 = 48\t7 x 8 = 56\t8 x 8 = 64\t9 x 8 = 72\t\n",
            "6 x 9 = 54\t7 x 9 = 63\t8 x 9 = 72\t9 x 9 = 81\t\n"
          ]
        }
      ]
    }
  ]
}